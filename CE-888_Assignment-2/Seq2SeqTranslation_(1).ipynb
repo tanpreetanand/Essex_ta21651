{
  "cells": [
    {
      "cell_type": "code",
      "execution_count": null,
      "metadata": {
        "id": "WDyZY8SSCw8E"
      },
      "outputs": [],
      "source": [
        "import numpy as np\n",
        "import pandas as pd\n",
        "import datetime, os\n",
        "import matplotlib.pyplot as plt\n",
        "import json\n",
        "from sklearn.model_selection import train_test_split\n",
        "\n",
        "# tensorflow imports\n",
        "import tensorflow as tf\n",
        "from tensorflow import keras\n",
        "from keras import layers, models\n",
        "from tensorflow import keras\n",
        "from tensorflow.keras.preprocessing.text import Tokenizer\n",
        "from tensorflow.keras.preprocessing.sequence import pad_sequences\n",
        "from tensorflow.keras.models import Model\n",
        "from tensorflow.keras.layers import GRU, Input, Dense, TimeDistributed, Activation, RepeatVector, Bidirectional, Embedding\n",
        "from tensorflow.keras.losses import sparse_categorical_crossentropy\n",
        "from keras.callbacks import EarlyStopping, ModelCheckpoint\n",
        "from tensorboard.plugins.hparams import api as hp"
      ]
    },
    {
      "cell_type": "code",
      "execution_count": null,
      "metadata": {
        "id": "-32t0VBECw8G"
      },
      "outputs": [],
      "source": [
        "#Loading the Spider dataset\n",
        "df = pd.read_json('train_spider.json')\n",
        "\n",
        "#Select first 1000 records\n",
        "df = df.sample(1000, random_state=101)\n",
        "\n",
        "df.reset_index(inplace=True)\n",
        "df.drop(columns=['index'])\n",
        "#Extract input and target data from the dataframe\n",
        "questions = df['question']\n",
        "queries = df['query']\n",
        "x = df['question']\n",
        "y = df['query']\n"
      ]
    },
    {
      "cell_type": "code",
      "execution_count": null,
      "metadata": {
        "id": "45VlcVS3BiAN"
      },
      "outputs": [],
      "source": [
        "#Check if there is any missing value in the Spider dataset\n",
        "df.isnull().values.any()"
      ]
    },
    {
      "cell_type": "code",
      "execution_count": null,
      "metadata": {
        "id": "brNkF-8tCw8H"
      },
      "outputs": [],
      "source": [
        "#Samples of inputs and outputs values\n",
        "for sample_i in range(2):\n",
        "  print('Questions {}:  {}'.format(sample_i + 1, questions[sample_i]))\n",
        "  print('SQL query {}:  {}'.format(sample_i + 1, queries[sample_i]))"
      ]
    },
    {
      "cell_type": "code",
      "execution_count": null,
      "metadata": {
        "id": "8Lrz2OXdCw8I"
      },
      "outputs": [],
      "source": [
        "import collections\n",
        "questions_words_counter = collections.Counter([word for sentence in questions for word in sentence.split()])\n",
        "queries_words_counter = collections.Counter([word for sentence in queries for word in sentence.split()])\n",
        "\n",
        "print('In the training data set')\n",
        "print('{} words in questions.'.format(len([word for sentence in questions for word in sentence.split()])))\n",
        "print('{} unique words.'.format(len(questions_words_counter)))\n",
        "print('20 Most common words in the questions dataset:')\n",
        "print('\"' + '\" \"'.join(list(zip(*questions_words_counter.most_common(20)))[0]) + '\"')\n",
        "print()\n",
        "print('{} words in SQL queries.'.format(len([word for sentence in queries for word in sentence.split()])))\n",
        "print('{} unique words.'.format(len(queries_words_counter)))\n",
        "print('20 Most common words in the SQL queries dataset:')\n",
        "print('\"' + '\" \"'.join(list(zip(*queries_words_counter.most_common(20)))[0]) + '\"')"
      ]
    },
    {
      "cell_type": "code",
      "execution_count": null,
      "metadata": {
        "id": "XmZl09-XCw8I"
      },
      "outputs": [],
      "source": [
        "#Tokenization method\n",
        "def tokenize(x):\n",
        "  \"\"\"\n",
        "  Tokenize x\n",
        "  :param x: List of sentences/strings to be tokenized\n",
        "  :return: Tuple of (tokenized x data, tokenizer used to tokenize x)\n",
        "  \"\"\"\n",
        "  #Implementation\n",
        "  x_tk = Tokenizer()\n",
        "  x_tk.fit_on_texts(x)\n",
        "\n",
        "  return x_tk.texts_to_sequences(x), x_tk\n",
        "\n",
        "#Padding method\n",
        "def pad(x, length=None):\n",
        "  \"\"\"\n",
        "  Pad x\n",
        "  :param x: List of sequences.\n",
        "  :param length: Length to pad the sequence to.  If None, use length of longest sequence in x.\n",
        "  :return: Padded numpy array of sequences\n",
        "  \"\"\"\n",
        "  #Implementation\n",
        "  if length is None:\n",
        "    length = max([len(sentence) for sentence in x])\n",
        "  return pad_sequences(x, maxlen=length, padding='post', truncating='post')\n",
        "\n",
        "def preprocess(x, y):\n",
        "  \"\"\"\n",
        "  Preprocess x and y\n",
        "  :param x: Feature List of sentences\n",
        "  :param y: Label List of sentences\n",
        "  :return: Tuple of (Preprocessed x, Preprocessed y, x tokenizer, y tokenizer)\n",
        "  \"\"\"\n",
        "  preprocess_x, x_tk = tokenize(x)\n",
        "  preprocess_y, y_tk = tokenize(y)\n",
        "\n",
        "  preprocess_x = pad(preprocess_x)\n",
        "  preprocess_y = pad(preprocess_y)\n",
        "\n",
        "  # Keras's sparse_categorical_crossentropy function will require the labels in 3 dimensions\n",
        "  preprocess_y = preprocess_y.reshape(*preprocess_y.shape, 1)\n",
        "\n",
        "  return preprocess_x, preprocess_y, x_tk, y_tk"
      ]
    },
    {
      "cell_type": "code",
      "execution_count": null,
      "metadata": {
        "id": "Jr7CI4LxCw8J"
      },
      "outputs": [],
      "source": [
        "preprocess_x, preprocess_y, x_tk, y_tk = preprocess(x, y)\n",
        "\n",
        "x_sequence_length = preprocess_x.shape[1]\n",
        "y_sequence_length = preprocess_y.shape[1]\n",
        "x_vocab_size = len(x_tk.word_index)\n",
        "y_vocab_size = len(y_tk.word_index)\n",
        "\n",
        "print('Dataset Preprocessed')\n",
        "print(\"Max question sentence length:\", x_sequence_length)\n",
        "print(\"Max query sentence length:\", y_sequence_length)\n",
        "print(\"Question vocabulary size:\", x_vocab_size)\n",
        "print(\"Query vocabulary size:\", y_vocab_size)\n"
      ]
    },
    {
      "cell_type": "code",
      "execution_count": null,
      "metadata": {
        "id": "b6Uogv8OCw8K"
      },
      "outputs": [],
      "source": [
        "#Split data 80% for training, 20% test\n",
        "x_train, x_test, y_train, y_test = train_test_split(preprocess_x, preprocess_y, test_size=0.2, random_state=99)\n",
        "\n",
        "print(len(x_train), 'train sequences', x_train.shape)\n",
        "print(len(x_test), 'test sequences', x_test.shape)"
      ]
    },
    {
      "cell_type": "code",
      "execution_count": null,
      "metadata": {
        "id": "TM__0QVbCw8K"
      },
      "outputs": [],
      "source": [
        "#Create values of Hyper-parameter using Optimizers\n",
        "HP_OPTIMIZER = hp.HParam('optimizer', hp.Discrete(['adam', 'sgd','RMSprop']))\n",
        "HP_NUM_UNITS1 = hp.HParam('num_units1', hp.Discrete([128, 256, 512]))\n",
        "HP_NUM_UNITS2 = hp.HParam('num_units2', hp.Discrete([256, 512]))\n",
        "\n",
        "METRIC_ACCURACY = 'accuracy'\n",
        "\n",
        "with tf.summary.create_file_writer('logs/hparam_tuning').as_default():\n",
        "  hp.hparams_config(\n",
        "    hparams=[HP_NUM_UNITS1, HP_NUM_UNITS2, HP_OPTIMIZER],\n",
        "    metrics=[hp.Metric(METRIC_ACCURACY, display_name='Accuracy')],\n",
        "  )"
      ]
    },
    {
      "cell_type": "code",
      "execution_count": null,
      "metadata": {
        "id": "-GKg1-DSCw8L"
      },
      "outputs": [],
      "source": [
        "#Hyper-parameter optimisation process\n",
        "def train_test_model(hparams):\n",
        "  \"\"\"\n",
        "  Define a function for testing different combinations of hyper-parameter setting\n",
        "  :hparams: a nest list of values\n",
        "  :return: training and vaildation accuracy for each epoch\n",
        "  \"\"\"\n",
        "  model = tf.keras.models.Sequential([\n",
        "    Input(shape=x_train.shape[1:]),\n",
        "    Embedding(x_vocab_size, 100),\n",
        "    Bidirectional(layers.LSTM(hparams[HP_NUM_UNITS1], return_sequences=True)),\n",
        "    Bidirectional(layers.LSTM(hparams[HP_NUM_UNITS1], return_sequences=False)),\n",
        "    Dense(hparams[HP_NUM_UNITS2], activation='relu'),\n",
        "    RepeatVector(y_sequence_length),\n",
        "    Bidirectional(layers.LSTM(hparams[HP_NUM_UNITS2], dropout=0.5, return_sequences=True)),\n",
        "    TimeDistributed(Dense(y_vocab_size, activation='softmax'))\n",
        "  ])\n",
        "  model.compile(\n",
        "    optimizer=hparams[HP_OPTIMIZER],\n",
        "    loss=sparse_categorical_crossentropy,\n",
        "    metrics=['accuracy']\n",
        "  )\n",
        "  model.fit(x_train, y_train, epochs=5)\n",
        "  _, accuracy = model.evaluate(x_test, y_test)\n",
        "  return accuracy"
      ]
    },
    {
      "cell_type": "code",
      "execution_count": null,
      "metadata": {
        "id": "nx8MIY1LCw8L"
      },
      "outputs": [],
      "source": [
        "def run(run_dir, hparams):\n",
        "  with tf.summary.create_file_writer(run_dir).as_default():\n",
        "    hp.hparams(hparams)  # record the values used in this trial\n",
        "    accuracy = train_test_model(hparams)\n",
        "    tf.summary.scalar(METRIC_ACCURACY, accuracy, step=1)"
      ]
    },
    {
      "cell_type": "code",
      "execution_count": null,
      "metadata": {
        "id": "ifDyrBvuCw8M"
      },
      "outputs": [],
      "source": [
        "session_num = 0\n",
        "\n",
        "for num_units1 in HP_NUM_UNITS1.domain.values:\n",
        "  for num_units2 in HP_NUM_UNITS2.domain.values:\n",
        "    for optimizer in HP_OPTIMIZER.domain.values:\n",
        "      hparams = {\n",
        "          HP_NUM_UNITS1: num_units1,\n",
        "          HP_NUM_UNITS2: num_units2,\n",
        "          HP_OPTIMIZER: optimizer\n",
        "      }\n",
        "      run_name = \"run-%d\" % session_num\n",
        "      print('--- Starting trial: %s' % run_name)\n",
        "      print({h.name: hparams[h] for h in hparams})\n",
        "      run('logs/hparam_tuning/' + run_name, hparams)\n",
        "      session_num += 1"
      ]
    },
    {
      "cell_type": "code",
      "execution_count": null,
      "metadata": {
        "id": "ZNPLqOzyuMXG"
      },
      "outputs": [],
      "source": [
        "HP_df = pd.read_csv('hparams_table.csv')\n",
        "HP_df\n"
      ]
    },
    {
      "cell_type": "code",
      "execution_count": null,
      "metadata": {
        "id": "JGIbWdHBC32f"
      },
      "outputs": [],
      "source": [
        "df = pd.read_json('train_spider.json')\n",
        "x = df['question']\n",
        "y = df['query']\n",
        "\n",
        "preprocess_x, preprocess_y, x_tk, y_tk = preprocess(x, y)\n",
        "\n",
        "x_sequence_length = preprocess_x.shape[1]\n",
        "y_sequence_length = preprocess_y.shape[1]\n",
        "x_vocab_size = len(x_tk.word_index)\n",
        "y_vocab_size = len(y_tk.word_index)\n",
        "\n",
        "x_train, x_test, y_train, y_test = train_test_split(preprocess_x, preprocess_y, test_size=0.3, random_state=99)\n"
      ]
    },
    {
      "cell_type": "code",
      "execution_count": null,
      "metadata": {
        "id": "4N-a4PGyClzG"
      },
      "outputs": [],
      "source": [
        "from pandas.core.algorithms import mode\n",
        "from tensorflow import keras\n",
        "from keras import layers, models\n",
        "from keras.callbacks import EarlyStopping, ModelCheckpoint\n",
        "from keras.layers import GRU, Input, Dense, TimeDistributed, Dropout, LSTM\n",
        "\n",
        "def model_final(input_shape, output_sequence_length, question_vocab_size, query_vocab_size):\n",
        "  \"\"\"\n",
        "  Build and train a embedding and bidirectional LSTM on x and y\n",
        "  :param input_shape: Tuple of input shape\n",
        "  :param output_sequence_length: Length of output sequence\n",
        "  :param question_vocab_size: Number of unique words in the question dataset\n",
        "  :param query_vocab_size: Number of unique words in the query dataset\n",
        "  :return: Keras model built, but not trained\n",
        "  \"\"\"\n",
        "  inputs = Input(shape=input_shape[1:])\n",
        "  emb = Embedding(question_vocab_size, 100)(inputs)\n",
        "  en_lstm_layer1 = Bidirectional(LSTM(128, return_sequences=True))(emb)\n",
        "  en_lstm_layer2 = Bidirectional(LSTM(128, return_sequences=False))(en_lstm_layer1)\n",
        "  final_enc = Dense(256, activation='relu')(en_lstm_layer2)\n",
        "    \n",
        "  dec1 = RepeatVector(output_sequence_length)(final_enc)\n",
        "  de_lstm_layer1 = Bidirectional(LSTM(256, dropout=0.5, return_sequences=True))(dec1)\n",
        "  layer = TimeDistributed(Dense(query_vocab_size, activation='softmax'))\n",
        "  final = layer(de_lstm_layer1)\n",
        "\n",
        "  model = Model(inputs=inputs, outputs=final)\n",
        "  model.compile(loss=sparse_categorical_crossentropy, \n",
        "                optimizer=keras.optimizers.Adam(learning_rate=0.0001), \n",
        "                metrics=['accuracy'])\n",
        "  return model\n",
        "\n",
        "model_final = model_final(\n",
        "    x_train.shape,\n",
        "    y_train.shape[1],\n",
        "    x_vocab_size+1,\n",
        "    y_vocab_size+1)\n",
        "\n",
        "callbacks = [EarlyStopping(monitor='val_loss', patience=1)]\n",
        "\n",
        "model_final.summary()\n",
        "model_final_history = model_final.fit(x_train, y_train, batch_size=32, epochs=100, validation_data=(x_test, y_test), callbacks = callbacks)\n",
        "\n",
        "print(model_final_history.history.keys())\n",
        "# summarize history for accuracy\n",
        "plt.plot(model_final_history.history['accuracy'])\n",
        "plt.plot(model_final_history.history['val_accuracy'])\n",
        "plt.title('model accuracy')\n",
        "plt.ylabel('accuracy')\n",
        "plt.xlabel('epoch')\n",
        "plt.legend(['train', 'test'], loc='upper left')\n",
        "plt.savefig('final_accuracy.png')\n",
        "plt.show()\n",
        "\n",
        "# summarize history for loss\n",
        "plt.plot(model_final_history.history['loss'])\n",
        "plt.plot(model_final_history.history['val_loss'])\n",
        "plt.title('model loss')\n",
        "plt.ylabel('loss')\n",
        "plt.xlabel('epoch')\n",
        "plt.legend(['train', 'test'], loc='upper left')\n",
        "plt.savefig('final_loss.png')\n",
        "plt.show()"
      ]
    },
    {
      "cell_type": "code",
      "execution_count": null,
      "metadata": {
        "id": "1HVAbowIVNKK"
      },
      "outputs": [],
      "source": [
        "print(\"Average train accuracy: \", np.average(model_final_history.history['accuracy']))\n",
        "print(\"Average train loss: \", np.average(model_final_history.history['loss']))\n",
        "print(\"Average val accuracy: \", np.average(model_final_history.history['val_accuracy']))\n",
        "print(\"Average val loss: \", np.average(model_final_history.history['val_loss']))"
      ]
    },
    {
      "cell_type": "code",
      "execution_count": null,
      "metadata": {
        "id": "58fpscegVNKK"
      },
      "outputs": [],
      "source": [
        "for sample_i in range(2):\n",
        "  print('Questions {}:  {}'.format(sample_i + 1, x[sample_i]))\n",
        "  print('SQL query {}:  {}'.format(sample_i + 1, y[sample_i]))"
      ]
    },
    {
      "cell_type": "code",
      "execution_count": null,
      "metadata": {
        "id": "WwPuNg-ACw8N"
      },
      "outputs": [],
      "source": [
        "y_id_to_word = {value: key for key, value in y_tk.word_index.items()}\n",
        "y_id_to_word[0] = '<PAD>'\n",
        "\n",
        "sentence = 'how many heads of the departments are older than 56'\n",
        "sentence = [x_tk.word_index[word] for word in sentence.split()]\n",
        "sentence = pad_sequences([sentence], maxlen=x_train.shape[-1], padding='post')\n",
        "sentences = np.array([sentence[0], x_train[0]])\n",
        "predictions = model_final.predict(sentences, len(sentences))\n",
        "print(' '.join([y_id_to_word[np.argmax(x)] for x in predictions[0]]))"
      ]
    }
  ],
  "metadata": {
    "accelerator": "GPU",
    "colab": {
      "collapsed_sections": [],
      "name": "Seq2SeqTranslation (1).ipynb",
      "private_outputs": true,
      "provenance": []
    },
    "interpreter": {
      "hash": "2be5faf79681da6f2a61fdfdd5405d65d042280f7fba6178067603e3a2925119"
    },
    "kernelspec": {
      "display_name": "Python 3 (ipykernel)",
      "language": "python",
      "name": "python3"
    },
    "language_info": {
      "codemirror_mode": {
        "name": "ipython",
        "version": 3
      },
      "file_extension": ".py",
      "mimetype": "text/x-python",
      "name": "python",
      "nbconvert_exporter": "python",
      "pygments_lexer": "ipython3",
      "version": "3.9.7"
    }
  },
  "nbformat": 4,
  "nbformat_minor": 0
}
